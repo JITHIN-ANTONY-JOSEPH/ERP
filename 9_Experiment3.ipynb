{
  "nbformat": 4,
  "nbformat_minor": 0,
  "metadata": {
    "colab": {
      "provenance": [],
      "machine_shape": "hm",
      "collapsed_sections": [
        "_cIoRgK5Okbt",
        "S9stb_2OOqBt",
        "w_bwzONoOuvI",
        "CfyY4AaIO89S",
        "syI-l8-bPIS4",
        "W9EKvjTpPRmO"
      ],
      "authorship_tag": "ABX9TyNw47se61mfdHRFep7gs+ez",
      "include_colab_link": true
    },
    "kernelspec": {
      "name": "python3",
      "display_name": "Python 3"
    },
    "language_info": {
      "name": "python"
    }
  },
  "cells": [
    {
      "cell_type": "markdown",
      "metadata": {
        "id": "view-in-github",
        "colab_type": "text"
      },
      "source": [
        "<a href=\"https://colab.research.google.com/github/JITHIN-ANTONY-JOSEPH/ERP_11358080/blob/main/9_Experiment3.ipynb\" target=\"_parent\"><img src=\"https://colab.research.google.com/assets/colab-badge.svg\" alt=\"Open In Colab\"/></a>"
      ]
    },
    {
      "cell_type": "markdown",
      "source": [
        "### Input : Recipe Instructions\n",
        "### Model : Word2Vec(Text) + GraphSAGE(Graph) + Neural Networks(Model)"
      ],
      "metadata": {
        "id": "DOQiUwqOY6FB"
      }
    },
    {
      "cell_type": "markdown",
      "source": [
        "### Mounting to connect to Google Drive"
      ],
      "metadata": {
        "id": "_cIoRgK5Okbt"
      }
    },
    {
      "cell_type": "code",
      "execution_count": null,
      "metadata": {
        "colab": {
          "base_uri": "https://localhost:8080/"
        },
        "id": "ntTt_4gN4AL-",
        "outputId": "ae7af9a6-d27f-4e89-d78c-1ec9ce4f3ddb"
      },
      "outputs": [
        {
          "output_type": "stream",
          "name": "stdout",
          "text": [
            "Drive already mounted at /content/drive; to attempt to forcibly remount, call drive.mount(\"/content/drive\", force_remount=True).\n"
          ]
        }
      ],
      "source": [
        "from google.colab import drive\n",
        "drive.mount('/content/drive')"
      ]
    },
    {
      "cell_type": "markdown",
      "source": [
        "### Installing required libraries"
      ],
      "metadata": {
        "id": "S9stb_2OOqBt"
      }
    },
    {
      "cell_type": "code",
      "source": [
        "!pip install torch_geometric"
      ],
      "metadata": {
        "colab": {
          "base_uri": "https://localhost:8080/"
        },
        "id": "VkhniFSz5izj",
        "outputId": "7050128b-9377-4942-bcd6-9c2e2a49a3b4"
      },
      "execution_count": null,
      "outputs": [
        {
          "output_type": "stream",
          "name": "stdout",
          "text": [
            "Collecting torch_geometric\n",
            "  Downloading torch_geometric-2.5.3-py3-none-any.whl.metadata (64 kB)\n",
            "\u001b[?25l     \u001b[90m━━━━━━━━━━━━━━━━━━━━━━━━━━━━━━━━━━━━━━━━\u001b[0m \u001b[32m0.0/64.2 kB\u001b[0m \u001b[31m?\u001b[0m eta \u001b[36m-:--:--\u001b[0m\r\u001b[2K     \u001b[91m━━━━━━━━━━━━━━━━━━━━━━━━━━━━━━━━━━━━━━\u001b[0m\u001b[90m╺\u001b[0m\u001b[90m━\u001b[0m \u001b[32m61.4/64.2 kB\u001b[0m \u001b[31m2.4 MB/s\u001b[0m eta \u001b[36m0:00:01\u001b[0m\r\u001b[2K     \u001b[90m━━━━━━━━━━━━━━━━━━━━━━━━━━━━━━━━━━━━━━━━\u001b[0m \u001b[32m64.2/64.2 kB\u001b[0m \u001b[31m1.5 MB/s\u001b[0m eta \u001b[36m0:00:00\u001b[0m\n",
            "\u001b[?25hRequirement already satisfied: tqdm in /usr/local/lib/python3.10/dist-packages (from torch_geometric) (4.66.5)\n",
            "Requirement already satisfied: numpy in /usr/local/lib/python3.10/dist-packages (from torch_geometric) (1.26.4)\n",
            "Requirement already satisfied: scipy in /usr/local/lib/python3.10/dist-packages (from torch_geometric) (1.13.1)\n",
            "Requirement already satisfied: fsspec in /usr/local/lib/python3.10/dist-packages (from torch_geometric) (2024.6.1)\n",
            "Requirement already satisfied: jinja2 in /usr/local/lib/python3.10/dist-packages (from torch_geometric) (3.1.4)\n",
            "Requirement already satisfied: aiohttp in /usr/local/lib/python3.10/dist-packages (from torch_geometric) (3.10.1)\n",
            "Requirement already satisfied: requests in /usr/local/lib/python3.10/dist-packages (from torch_geometric) (2.32.3)\n",
            "Requirement already satisfied: pyparsing in /usr/local/lib/python3.10/dist-packages (from torch_geometric) (3.1.2)\n",
            "Requirement already satisfied: scikit-learn in /usr/local/lib/python3.10/dist-packages (from torch_geometric) (1.3.2)\n",
            "Requirement already satisfied: psutil>=5.8.0 in /usr/local/lib/python3.10/dist-packages (from torch_geometric) (5.9.5)\n",
            "Requirement already satisfied: aiohappyeyeballs>=2.3.0 in /usr/local/lib/python3.10/dist-packages (from aiohttp->torch_geometric) (2.3.4)\n",
            "Requirement already satisfied: aiosignal>=1.1.2 in /usr/local/lib/python3.10/dist-packages (from aiohttp->torch_geometric) (1.3.1)\n",
            "Requirement already satisfied: attrs>=17.3.0 in /usr/local/lib/python3.10/dist-packages (from aiohttp->torch_geometric) (24.1.0)\n",
            "Requirement already satisfied: frozenlist>=1.1.1 in /usr/local/lib/python3.10/dist-packages (from aiohttp->torch_geometric) (1.4.1)\n",
            "Requirement already satisfied: multidict<7.0,>=4.5 in /usr/local/lib/python3.10/dist-packages (from aiohttp->torch_geometric) (6.0.5)\n",
            "Requirement already satisfied: yarl<2.0,>=1.0 in /usr/local/lib/python3.10/dist-packages (from aiohttp->torch_geometric) (1.9.4)\n",
            "Requirement already satisfied: async-timeout<5.0,>=4.0 in /usr/local/lib/python3.10/dist-packages (from aiohttp->torch_geometric) (4.0.3)\n",
            "Requirement already satisfied: MarkupSafe>=2.0 in /usr/local/lib/python3.10/dist-packages (from jinja2->torch_geometric) (2.1.5)\n",
            "Requirement already satisfied: charset-normalizer<4,>=2 in /usr/local/lib/python3.10/dist-packages (from requests->torch_geometric) (3.3.2)\n",
            "Requirement already satisfied: idna<4,>=2.5 in /usr/local/lib/python3.10/dist-packages (from requests->torch_geometric) (3.7)\n",
            "Requirement already satisfied: urllib3<3,>=1.21.1 in /usr/local/lib/python3.10/dist-packages (from requests->torch_geometric) (2.0.7)\n",
            "Requirement already satisfied: certifi>=2017.4.17 in /usr/local/lib/python3.10/dist-packages (from requests->torch_geometric) (2024.7.4)\n",
            "Requirement already satisfied: joblib>=1.1.1 in /usr/local/lib/python3.10/dist-packages (from scikit-learn->torch_geometric) (1.4.2)\n",
            "Requirement already satisfied: threadpoolctl>=2.0.0 in /usr/local/lib/python3.10/dist-packages (from scikit-learn->torch_geometric) (3.5.0)\n",
            "Downloading torch_geometric-2.5.3-py3-none-any.whl (1.1 MB)\n",
            "\u001b[2K   \u001b[90m━━━━━━━━━━━━━━━━━━━━━━━━━━━━━━━━━━━━━━━━\u001b[0m \u001b[32m1.1/1.1 MB\u001b[0m \u001b[31m14.6 MB/s\u001b[0m eta \u001b[36m0:00:00\u001b[0m\n",
            "\u001b[?25hInstalling collected packages: torch_geometric\n",
            "Successfully installed torch_geometric-2.5.3\n"
          ]
        }
      ]
    },
    {
      "cell_type": "markdown",
      "source": [
        "### Importing required libraries , loading datasets and pre-processing"
      ],
      "metadata": {
        "id": "w_bwzONoOuvI"
      }
    },
    {
      "cell_type": "code",
      "source": [
        "import numpy as np\n",
        "import pandas as pd"
      ],
      "metadata": {
        "id": "g4BlqnGo4TNa"
      },
      "execution_count": null,
      "outputs": []
    },
    {
      "cell_type": "code",
      "source": [
        "flavorgraph_df = pd.read_csv('/content/drive/My Drive/ERP/Dataset/nodes_191120.csv')  # Adjust the path as needed , this is the path to my personal Google Drive"
      ],
      "metadata": {
        "id": "r2vVyidb4rqJ"
      },
      "execution_count": null,
      "outputs": []
    },
    {
      "cell_type": "code",
      "source": [
        "import pandas as pd\n",
        "import json\n",
        "import re\n",
        "import jellyfish\n",
        "from gensim.models import Word2Vec\n",
        "from concurrent.futures import ProcessPoolExecutor\n",
        "\n",
        "# Load the main dataset\n",
        "with open('/content/drive/My Drive/ERP/modified_Processed_Layer1.json', 'r') as file: # Adjust the path as needed , this is the path to my personal Google Drive\n",
        "    recipe1m_data = [json.loads(line) for line in file]\n",
        "\n",
        "recipe1m_df = pd.DataFrame(recipe1m_data)\n",
        "\n",
        "# Load the substitution pairs\n",
        "substitution_pairs_df = pd.read_csv('/content/drive/My Drive/ERP/Recipe1MSubs_full.csv') # Adjust the path as needed , this is the path to my personal Google Drive\n",
        "\n",
        "# Merge the datasets based on recipe_id (substitution_pairs_df) nd id (recipe1m_df)\n",
        "merged_df = pd.merge(recipe1m_df, substitution_pairs_df, left_on= 'id', right_on='recipe_id')\n",
        "\n",
        "# Example ingredient list for NER-like extraction (replace with your own comprehensive list or use NER model)\n",
        "ingredient_list = set(flavorgraph_df[flavorgraph_df['node_type'] == 'ingredient']['name'].dropna().unique())\n",
        "\n",
        "# Function to extract ingredients from instructions\n",
        "def extract_ingredients_from_instructions(instructions, ingredient_list):\n",
        "    extracted_ingredients = []\n",
        "    for instruction in instructions:\n",
        "        words = instruction.split()\n",
        "        for word in words:\n",
        "            if word in ingredient_list:\n",
        "                extracted_ingredients.append(word)\n",
        "    return extracted_ingredients\n",
        "\n",
        "# Apply the extraction function\n",
        "recipe1m_df['extracted_ingredients'] = recipe1m_df['processed_instructions'].apply(\n",
        "    lambda instructions: extract_ingredients_from_instructions(instructions, ingredient_list) if isinstance(instructions, list) else []\n",
        ")\n",
        "\n",
        "# Prepare sentences for training\n",
        "sentences = recipe1m_df['extracted_ingredients'].tolist()\n",
        "\n",
        "# Add substitution contexts to sentences\n",
        "for _, row in substitution_pairs_df.iterrows():\n",
        "    ingredient1 = row['ingredient1']\n",
        "    ingredient2 = row['ingredient2']\n",
        "    sentences.append([ingredient1, ingredient2])\n",
        "\n",
        "# Train the Word2Vec model\n",
        "model = Word2Vec(sentences, vector_size=100, window=5, min_count=1, workers=8)  # Increase 'workers' to utilize more CPU cores"
      ],
      "metadata": {
        "id": "IyO7GGWg4d_K"
      },
      "execution_count": null,
      "outputs": []
    },
    {
      "cell_type": "markdown",
      "source": [
        "### Defining embeddings"
      ],
      "metadata": {
        "id": "CfyY4AaIO89S"
      }
    },
    {
      "cell_type": "code",
      "source": [
        "import torch\n",
        "import torch.nn as nn\n",
        "import torch.optim as optim\n",
        "import torch.nn.functional as F\n",
        "import numpy as np\n",
        "import jellyfish\n",
        "from sklearn.metrics.pairwise import cosine_similarity\n",
        "from gensim.models import Word2Vec\n",
        "import networkx as nx\n",
        "from torch_geometric.data import Data\n",
        "from torch_geometric.nn import SAGEConv\n",
        "\n",
        "# Load the knowledge graph\n",
        "flavor_graph = nx.read_graphml('/content/drive/My Drive/ERP/knowledge_graph.graphml')\n",
        "\n",
        "# Filter the graph to include only ingredient nodes\n",
        "ingredient_nodes = [n for n, attr in flavor_graph.nodes(data=True) if attr['node_type'] == 'ingredient']\n",
        "flavor_graph = flavor_graph.subgraph(ingredient_nodes)\n",
        "\n",
        "# Create a mapping from node names to numerical indices\n",
        "node_to_index = {node: i for i, node in enumerate(flavor_graph.nodes())}\n",
        "index_to_node = {i: node for node, i in node_to_index.items()}\n",
        "\n",
        "# Generate text-based embeddings using Word2Vec\n",
        "# Assuming 'sentences' is already prepared from your text data\n",
        "text_model = Word2Vec(sentences, vector_size=100, window=5, min_count=1, workers=8)\n",
        "text_embeddings = text_model.wv\n",
        "\n",
        "node_features = np.array([text_embeddings[node] if node in text_embeddings else np.zeros(100) for node in flavor_graph.nodes()])\n",
        "edge_index = np.array([(node_to_index[u], node_to_index[v]) for u, v in flavor_graph.edges()]).T\n",
        "\n",
        "# Convert to PyTorch tensors\n",
        "x = torch.tensor(node_features, dtype=torch.float32)\n",
        "edge_index = torch.tensor(edge_index, dtype=torch.long)\n",
        "\n",
        "# Define GraphSAGE model\n",
        "class GraphSAGE(nn.Module):\n",
        "    def __init__(self, in_channels, out_channels):\n",
        "        super(GraphSAGE, self).__init__()\n",
        "        self.sage1 = SAGEConv(in_channels, out_channels)\n",
        "        self.sage2 = SAGEConv(out_channels, out_channels)\n",
        "\n",
        "    def forward(self, x, edge_index):\n",
        "        x = self.sage1(x, edge_index)\n",
        "        x = torch.relu(x)\n",
        "        x = self.sage2(x, edge_index)\n",
        "        return x\n",
        "\n",
        "# Initialize the GraphSAGE model\n",
        "graph_sage_model = GraphSAGE(in_channels=100, out_channels=100)\n",
        "\n",
        "# Prepare data for training\n",
        "data = Data(x=x, edge_index=edge_index)\n",
        "\n",
        "# Train the GraphSAGE model\n",
        "optimizer = torch.optim.Adam(graph_sage_model.parameters(), lr=0.01)\n",
        "graph_sage_model.train()\n",
        "\n",
        "for epoch in range(200):  # Adjust epochs as needed\n",
        "    optimizer.zero_grad()\n",
        "    out = graph_sage_model(data.x, data.edge_index)\n",
        "    loss = F.mse_loss(out, data.x)  # Using feature reconstruction as a training objective\n",
        "    loss.backward()\n",
        "    optimizer.step()\n",
        "    if epoch % 20 == 0:\n",
        "        print(f'Epoch {epoch}, Loss: {loss.item()}')\n",
        "\n",
        "# Get graph embeddings\n",
        "graph_embeddings = out.detach().numpy()\n",
        "\n",
        "# Combine text and graph embeddings\n",
        "def get_combined_embedding(ingredient, text_embeddings, graph_embeddings):\n",
        "    if ingredient in text_embeddings and ingredient in node_to_index:\n",
        "        text_emb = text_embeddings[ingredient]\n",
        "        graph_emb = graph_embeddings[node_to_index[ingredient]]\n",
        "        return np.concatenate([text_emb, graph_emb])\n",
        "    else:\n",
        "        return np.zeros(200)  # Return zero vector if ingredient is not found in either embedding\n",
        "\n",
        "combined_embeddings = {ingredient: get_combined_embedding(ingredient, text_embeddings, graph_embeddings) for ingredient in text_embeddings.index_to_key}\n"
      ],
      "metadata": {
        "colab": {
          "base_uri": "https://localhost:8080/"
        },
        "id": "rLSd47cy5Z76",
        "outputId": "ab307403-1d47-41d4-d0b6-7b0e8496694b"
      },
      "execution_count": null,
      "outputs": [
        {
          "output_type": "stream",
          "name": "stdout",
          "text": [
            "Epoch 0, Loss: 0.4375673234462738\n",
            "Epoch 20, Loss: 0.1426171064376831\n",
            "Epoch 40, Loss: 0.07879400998353958\n",
            "Epoch 60, Loss: 0.05029160901904106\n",
            "Epoch 80, Loss: 0.034899357706308365\n",
            "Epoch 100, Loss: 0.029627220705151558\n",
            "Epoch 120, Loss: 0.015158927999436855\n",
            "Epoch 140, Loss: 0.012557406909763813\n",
            "Epoch 160, Loss: 0.017621295526623726\n",
            "Epoch 180, Loss: 0.006378908175975084\n"
          ]
        }
      ]
    },
    {
      "cell_type": "code",
      "source": [
        "# Combine embeddings for training data\n",
        "train_data = []\n",
        "train_labels = []\n",
        "\n",
        "for _, row in substitution_pairs_df.iterrows():\n",
        "    ing1 = row['ingredient1']\n",
        "    ing2 = row['ingredient2']\n",
        "    combined_embedding1 = get_combined_embedding(ing1, text_embeddings, graph_embeddings)\n",
        "    combined_embedding2 = get_combined_embedding(ing2, text_embeddings, graph_embeddings)\n",
        "\n",
        "    train_data.append(combined_embedding1)\n",
        "    train_labels.append(combined_embedding2)\n",
        "\n",
        "train_data = torch.tensor(train_data, dtype=torch.float32)\n",
        "train_labels = torch.tensor(train_labels, dtype=torch.float32)\n"
      ],
      "metadata": {
        "colab": {
          "base_uri": "https://localhost:8080/"
        },
        "id": "A0ywuDAg54GL",
        "outputId": "088d7922-dcda-4181-b8a4-35629d5726a0"
      },
      "execution_count": null,
      "outputs": [
        {
          "output_type": "stream",
          "name": "stderr",
          "text": [
            "<ipython-input-16-b9e48eeabc86>:14: UserWarning: Creating a tensor from a list of numpy.ndarrays is extremely slow. Please consider converting the list to a single numpy.ndarray with numpy.array() before converting to a tensor. (Triggered internally at ../torch/csrc/utils/tensor_new.cpp:274.)\n",
            "  train_data = torch.tensor(train_data, dtype=torch.float32)\n"
          ]
        }
      ]
    },
    {
      "cell_type": "markdown",
      "source": [
        "### Defining the neural network and combined model run"
      ],
      "metadata": {
        "id": "syI-l8-bPIS4"
      }
    },
    {
      "cell_type": "code",
      "source": [
        "# Define the neural network\n",
        "class CombinedNN(nn.Module):\n",
        "    def __init__(self, input_dim, output_dim):\n",
        "        super(CombinedNN, self).__init__()\n",
        "        self.fc1 = nn.Linear(input_dim, 128)\n",
        "        self.fc2 = nn.Linear(128, output_dim)\n",
        "        self.dropout = nn.Dropout(0.5)\n",
        "\n",
        "    def forward(self, x):\n",
        "        x = F.relu(self.fc1(x))\n",
        "        x = self.dropout(x)\n",
        "        x = self.fc2(x)\n",
        "        return x\n",
        "\n",
        "# Instantiate the model\n",
        "nn_model = CombinedNN(input_dim=200, output_dim=200)  # Combined embedding dimension is 200 (100 + 100)\n",
        "criterion = nn.MSELoss()\n",
        "optimizer = optim.Adam(nn_model.parameters(), lr=0.001)\n",
        "\n",
        "# Training loop\n",
        "for epoch in range(200):\n",
        "    nn_model.train()\n",
        "    optimizer.zero_grad()\n",
        "    outputs = nn_model(train_data)\n",
        "    loss = criterion(outputs, train_labels)\n",
        "    loss.backward()\n",
        "    optimizer.step()\n",
        "    print(f'Epoch {epoch+1}, Loss: {loss.item()}')\n"
      ],
      "metadata": {
        "colab": {
          "base_uri": "https://localhost:8080/"
        },
        "id": "mfJRUU6o58SK",
        "outputId": "69253602-de7c-4999-98fb-b1c0ddf9145a"
      },
      "execution_count": null,
      "outputs": [
        {
          "output_type": "stream",
          "name": "stdout",
          "text": [
            "Epoch 1, Loss: 1.4918891191482544\n",
            "Epoch 2, Loss: 1.4565880298614502\n",
            "Epoch 3, Loss: 1.426780343055725\n",
            "Epoch 4, Loss: 1.4033043384552002\n",
            "Epoch 5, Loss: 1.3855185508728027\n",
            "Epoch 6, Loss: 1.3706163167953491\n",
            "Epoch 7, Loss: 1.3576475381851196\n",
            "Epoch 8, Loss: 1.3462826013565063\n",
            "Epoch 9, Loss: 1.337214469909668\n",
            "Epoch 10, Loss: 1.3289775848388672\n",
            "Epoch 11, Loss: 1.3215599060058594\n",
            "Epoch 12, Loss: 1.3148607015609741\n",
            "Epoch 13, Loss: 1.3082935810089111\n",
            "Epoch 14, Loss: 1.3017737865447998\n",
            "Epoch 15, Loss: 1.2966320514678955\n",
            "Epoch 16, Loss: 1.2914416790008545\n",
            "Epoch 17, Loss: 1.2861120700836182\n",
            "Epoch 18, Loss: 1.2811558246612549\n",
            "Epoch 19, Loss: 1.2768816947937012\n",
            "Epoch 20, Loss: 1.2723435163497925\n",
            "Epoch 21, Loss: 1.2688885927200317\n",
            "Epoch 22, Loss: 1.2654930353164673\n",
            "Epoch 23, Loss: 1.2618346214294434\n",
            "Epoch 24, Loss: 1.257851243019104\n",
            "Epoch 25, Loss: 1.256516456604004\n",
            "Epoch 26, Loss: 1.2526763677597046\n",
            "Epoch 27, Loss: 1.2495944499969482\n",
            "Epoch 28, Loss: 1.2468396425247192\n",
            "Epoch 29, Loss: 1.2448030710220337\n",
            "Epoch 30, Loss: 1.242187738418579\n",
            "Epoch 31, Loss: 1.240297555923462\n",
            "Epoch 32, Loss: 1.2374379634857178\n",
            "Epoch 33, Loss: 1.2364805936813354\n",
            "Epoch 34, Loss: 1.2335795164108276\n",
            "Epoch 35, Loss: 1.2315036058425903\n",
            "Epoch 36, Loss: 1.2301422357559204\n",
            "Epoch 37, Loss: 1.228065013885498\n",
            "Epoch 38, Loss: 1.2264831066131592\n",
            "Epoch 39, Loss: 1.2250680923461914\n",
            "Epoch 40, Loss: 1.223167896270752\n",
            "Epoch 41, Loss: 1.2213122844696045\n",
            "Epoch 42, Loss: 1.2193917036056519\n",
            "Epoch 43, Loss: 1.2180004119873047\n",
            "Epoch 44, Loss: 1.2170876264572144\n",
            "Epoch 45, Loss: 1.2156784534454346\n",
            "Epoch 46, Loss: 1.2137739658355713\n",
            "Epoch 47, Loss: 1.212174415588379\n",
            "Epoch 48, Loss: 1.2112501859664917\n",
            "Epoch 49, Loss: 1.2097986936569214\n",
            "Epoch 50, Loss: 1.2089334726333618\n",
            "Epoch 51, Loss: 1.2073051929473877\n",
            "Epoch 52, Loss: 1.2058483362197876\n",
            "Epoch 53, Loss: 1.2054104804992676\n",
            "Epoch 54, Loss: 1.2045499086380005\n",
            "Epoch 55, Loss: 1.2036166191101074\n",
            "Epoch 56, Loss: 1.2026066780090332\n",
            "Epoch 57, Loss: 1.201430082321167\n",
            "Epoch 58, Loss: 1.1997697353363037\n",
            "Epoch 59, Loss: 1.1996492147445679\n",
            "Epoch 60, Loss: 1.197852373123169\n",
            "Epoch 61, Loss: 1.1967244148254395\n",
            "Epoch 62, Loss: 1.1957391500473022\n",
            "Epoch 63, Loss: 1.1950420141220093\n",
            "Epoch 64, Loss: 1.1946390867233276\n",
            "Epoch 65, Loss: 1.1939606666564941\n",
            "Epoch 66, Loss: 1.1928128004074097\n",
            "Epoch 67, Loss: 1.1921957731246948\n",
            "Epoch 68, Loss: 1.191327452659607\n",
            "Epoch 69, Loss: 1.1905003786087036\n",
            "Epoch 70, Loss: 1.1904510259628296\n",
            "Epoch 71, Loss: 1.1892262697219849\n",
            "Epoch 72, Loss: 1.1888635158538818\n",
            "Epoch 73, Loss: 1.187780737876892\n",
            "Epoch 74, Loss: 1.1871941089630127\n",
            "Epoch 75, Loss: 1.1872833967208862\n",
            "Epoch 76, Loss: 1.1851927042007446\n",
            "Epoch 77, Loss: 1.1857610940933228\n",
            "Epoch 78, Loss: 1.1852353811264038\n",
            "Epoch 79, Loss: 1.1837859153747559\n",
            "Epoch 80, Loss: 1.1841238737106323\n",
            "Epoch 81, Loss: 1.1833431720733643\n",
            "Epoch 82, Loss: 1.1821560859680176\n",
            "Epoch 83, Loss: 1.1826378107070923\n",
            "Epoch 84, Loss: 1.1806575059890747\n",
            "Epoch 85, Loss: 1.180577278137207\n",
            "Epoch 86, Loss: 1.1794610023498535\n",
            "Epoch 87, Loss: 1.1799917221069336\n",
            "Epoch 88, Loss: 1.1789376735687256\n",
            "Epoch 89, Loss: 1.1788408756256104\n",
            "Epoch 90, Loss: 1.1785839796066284\n",
            "Epoch 91, Loss: 1.1789027452468872\n",
            "Epoch 92, Loss: 1.1778687238693237\n",
            "Epoch 93, Loss: 1.176867961883545\n",
            "Epoch 94, Loss: 1.1768181324005127\n",
            "Epoch 95, Loss: 1.1750543117523193\n",
            "Epoch 96, Loss: 1.1757358312606812\n",
            "Epoch 97, Loss: 1.1753346920013428\n",
            "Epoch 98, Loss: 1.1752939224243164\n",
            "Epoch 99, Loss: 1.175315260887146\n",
            "Epoch 100, Loss: 1.1737914085388184\n"
          ]
        }
      ]
    },
    {
      "cell_type": "markdown",
      "source": [
        "### Evaluation"
      ],
      "metadata": {
        "id": "W9EKvjTpPRmO"
      }
    },
    {
      "cell_type": "code",
      "source": [
        "# Evaluate on validation set\n",
        "val_data = []\n",
        "val_labels = []\n",
        "\n",
        "for idx, row in enumerate(substitution_pairs_df.itertuples()):\n",
        "    if idx >= 500:  # Change to the first 500 entries\n",
        "        break\n",
        "    ing1 = row.ingredient1\n",
        "    combined_embedding = get_combined_embedding(ing1, text_embeddings, graph_embeddings)\n",
        "\n",
        "    val_data.append(combined_embedding)\n",
        "    val_labels.append(row.ingredient2)\n",
        "\n",
        "val_data = torch.tensor(val_data, dtype=torch.float32)\n",
        "val_predictions = nn_model(val_data).detach().numpy()\n",
        "\n",
        "# Function to find the top N most similar ingredients based on cosine similarity\n",
        "def find_top_similar_ingredients(predicted_embedding, combined_embeddings, top_n=10):\n",
        "    similarities = {}\n",
        "    for ingredient, embedding in combined_embeddings.items():\n",
        "        similarity = cosine_similarity(predicted_embedding.reshape(1, -1), embedding.reshape(1, -1))[0][0]\n",
        "        similarities[ingredient] = similarity\n",
        "    sorted_ingredients = sorted(similarities.items(), key=lambda item: item[1], reverse=True)\n",
        "    return [ingredient for ingredient, similarity in sorted_ingredients[:top_n]]\n",
        "\n",
        "# Function to calculate metrics with Jaro-Winkler similarity threshold\n",
        "def calculate_metrics(predictions, ground_truths, combined_embeddings, top_n=10, threshold=0.8):\n",
        "    mrr, hit_1, hit_3, hit_10 = 0.0, 0.0, 0.0, 0.0\n",
        "    total = len(ground_truths)\n",
        "\n",
        "    for pred, gt in zip(predictions, ground_truths):\n",
        "        top_similar = find_top_similar_ingredients(pred, combined_embeddings, top_n=top_n)\n",
        "        for rank, candidate in enumerate(top_similar, start=1):\n",
        "            sim = jellyfish.jaro_winkler_similarity(gt, candidate)\n",
        "            if sim >= threshold:\n",
        "                mrr += 1.0 / rank\n",
        "                if rank == 1:\n",
        "                    hit_1 += 1.0\n",
        "                if rank <= 3:\n",
        "                    hit_3 += 1.0\n",
        "                if rank <= 10:\n",
        "                    hit_10 += 1.0\n",
        "                break\n",
        "\n",
        "    mrr /= total\n",
        "    hit_1 /= total\n",
        "    hit_3 /= total\n",
        "    hit_10 /= total\n",
        "    return mrr, hit_1, hit_3, hit_10\n",
        "\n",
        "# Calculate metrics for the first 500 entries of the validation set\n",
        "val_labels_str = val_labels[:500]  # Assuming labels are ingredient names\n",
        "mrr, hit_1, hit_3, hit_10 = calculate_metrics(val_predictions, val_labels_str, combined_embeddings)\n",
        "\n",
        "print(f\"MRR: {mrr:.4f}, Hit@1: {hit_1:.4f}, Hit@3: {hit_3:.4f}, Hit@10: {hit_10:.4f}\")\n"
      ],
      "metadata": {
        "colab": {
          "base_uri": "https://localhost:8080/"
        },
        "id": "gJs4UtYx6DyT",
        "outputId": "8c4b4dc5-7915-4243-981e-36abe914a76c"
      },
      "execution_count": null,
      "outputs": [
        {
          "output_type": "stream",
          "name": "stdout",
          "text": [
            "MRR: 0.1118, Hit@1: 0.0640, Hit@3: 0.1260, Hit@10: 0.2460\n"
          ]
        }
      ]
    },
    {
      "cell_type": "code",
      "source": [],
      "metadata": {
        "id": "umUeG0tSFFID"
      },
      "execution_count": null,
      "outputs": []
    }
  ]
}