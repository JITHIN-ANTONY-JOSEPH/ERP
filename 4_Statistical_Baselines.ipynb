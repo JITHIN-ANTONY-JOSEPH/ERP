{
  "nbformat": 4,
  "nbformat_minor": 0,
  "metadata": {
    "colab": {
      "provenance": [],
      "machine_shape": "hm",
      "gpuType": "T4",
      "authorship_tag": "ABX9TyMZKI5AdWBxtnRrVWV/tN/t",
      "include_colab_link": true
    },
    "kernelspec": {
      "name": "python3",
      "display_name": "Python 3"
    },
    "language_info": {
      "name": "python"
    },
    "accelerator": "GPU"
  },
  "cells": [
    {
      "cell_type": "markdown",
      "metadata": {
        "id": "view-in-github",
        "colab_type": "text"
      },
      "source": [
        "<a href=\"https://colab.research.google.com/github/JITHIN-ANTONY-JOSEPH/ERP_11358080/blob/main/4_Statistical_Baselines.ipynb\" target=\"_parent\"><img src=\"https://colab.research.google.com/assets/colab-badge.svg\" alt=\"Open In Colab\"/></a>"
      ]
    },
    {
      "cell_type": "markdown",
      "source": [
        "### Mounting to connect to Google Drive"
      ],
      "metadata": {
        "id": "lYxVqkettNfq"
      }
    },
    {
      "cell_type": "code",
      "execution_count": null,
      "metadata": {
        "colab": {
          "base_uri": "https://localhost:8080/"
        },
        "id": "GQfgDyTiybzY",
        "outputId": "24bcdf0e-1dde-44b0-b1f1-e21f510fd943"
      },
      "outputs": [
        {
          "output_type": "stream",
          "name": "stdout",
          "text": [
            "Mounted at /content/drive\n"
          ]
        }
      ],
      "source": [
        "from google.colab import drive\n",
        "drive.mount('/content/drive')"
      ]
    },
    {
      "cell_type": "markdown",
      "source": [
        "### Baselines for Traditional Methods"
      ],
      "metadata": {
        "id": "o3n-Oy-itQqx"
      }
    },
    {
      "cell_type": "code",
      "source": [
        "import pandas as pd\n",
        "import numpy as np\n",
        "import random\n",
        "from collections import defaultdict\n",
        "from sklearn.model_selection import train_test_split\n",
        "\n",
        "# Load the substitution pairs DataFrame\n",
        "substitution_pairs_df = pd.read_csv('/content/drive/My Drive/ERP/Recipe1MSubs_full.csv')  # Adjust the path as needed , this is the path to my personal Google Drive\n",
        "flavorgraph_df = pd.read_csv('/content/drive/My Drive/ERP/Dataset/nodes_191120.csv')  # Adjust the path as needed , this is the path to my personal Google Drive\n",
        "# Drop duplicate rows\n",
        "substitution_pairs_df = substitution_pairs_df.drop_duplicates()\n",
        "\n",
        "# Remove entries where ingredient1 == ingredient2\n",
        "substitution_pairs_df = substitution_pairs_df[substitution_pairs_df['ingredient1'] != substitution_pairs_df['ingredient2']]\n",
        "\n",
        "# Split the data into training and validation sets\n",
        "train_df, val_df = train_test_split(substitution_pairs_df, test_size=0.2, random_state=42)\n",
        "\n",
        "# Train the frequency model\n",
        "substitution_freq = defaultdict(int)\n",
        "for _, row in train_df.iterrows():\n",
        "    substitution_freq[(row['ingredient1'], row['ingredient2'])] += 1\n",
        "\n",
        "# Train the mode model\n",
        "mode_ingredient = train_df['ingredient2'].mode()[0]\n",
        "\n",
        "# Function to calculate MRR, Hit@1, Hit@3, and Hit@10\n",
        "def calculate_metrics(predictions, ground_truths):\n",
        "    mrr = 0.0\n",
        "    hit_1 = 0.0\n",
        "    hit_3 = 0.0\n",
        "    hit_10 = 0.0\n",
        "    for pred, gt in zip(predictions, ground_truths):\n",
        "        if gt in pred:\n",
        "            rank = pred.index(gt) + 1\n",
        "            mrr += 1.0 / rank\n",
        "            if rank == 1:\n",
        "                hit_1 += 1.0\n",
        "            if rank <= 3:\n",
        "                hit_3 += 1.0\n",
        "            if rank <= 10:\n",
        "                hit_10 += 1.0\n",
        "    mrr /= len(ground_truths)\n",
        "    hit_1 /= len(ground_truths)\n",
        "    hit_3 /= len(ground_truths)\n",
        "    hit_10 /= len(ground_truths)\n",
        "    return mrr, hit_1, hit_3, hit_10\n",
        "\n",
        "# Generate predictions for the Random model\n",
        "val_ground_truths = val_df['ingredient2'].tolist()\n",
        "# Extract unique ingredients where node_type is \"ingredient\"\n",
        "flavorgraph_ingredients = set(flavorgraph_df[flavorgraph_df['node_type'] == 'ingredient']['name'].dropna().unique())\n",
        "val_predictions_random = [[random.choice(list(flavorgraph_ingredients))] for _ in val_ground_truths]\n",
        "\n",
        "# Generate predictions for the Mode model\n",
        "val_predictions_mode = [[mode_ingredient] for _ in val_ground_truths]\n",
        "\n",
        "\n",
        "# Calculate metrics for each model\n",
        "metrics = {\n",
        "    \"Random\": calculate_metrics(val_predictions_random, val_ground_truths),\n",
        "    \"Mode\": calculate_metrics(val_predictions_mode, val_ground_truths)\n",
        "}\n",
        "\n",
        "# Display the metrics\n",
        "for model_name, (mrr, hit_1, hit_3, hit_10) in metrics.items():\n",
        "    print(f\"{model_name}: MRR: {mrr:.4f}, Hit@1: {hit_1:.4f}, Hit@3: {hit_3:.4f}, Hit@10: {hit_10:.4f}\")\n"
      ],
      "metadata": {
        "colab": {
          "base_uri": "https://localhost:8080/"
        },
        "id": "tz8HFmezycUr",
        "outputId": "661cde73-6617-4ff7-f770-c7500e1d8249"
      },
      "execution_count": null,
      "outputs": [
        {
          "output_type": "stream",
          "name": "stdout",
          "text": [
            "Random: MRR: 0.0005, Hit@1: 0.0005, Hit@3: 0.0005, Hit@10: 0.0005\n",
            "Mode: MRR: 0.0235, Hit@1: 0.0235, Hit@3: 0.0235, Hit@10: 0.0235\n"
          ]
        }
      ]
    },
    {
      "cell_type": "code",
      "source": [],
      "metadata": {
        "id": "KGbXW38utDbb"
      },
      "execution_count": null,
      "outputs": []
    }
  ]
}