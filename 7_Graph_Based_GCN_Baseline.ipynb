{
  "nbformat": 4,
  "nbformat_minor": 0,
  "metadata": {
    "colab": {
      "provenance": [],
      "machine_shape": "hm",
      "authorship_tag": "ABX9TyNjvliv4oc+GnWzmrGhyEIl",
      "include_colab_link": true
    },
    "kernelspec": {
      "name": "python3",
      "display_name": "Python 3"
    },
    "language_info": {
      "name": "python"
    }
  },
  "cells": [
    {
      "cell_type": "markdown",
      "metadata": {
        "id": "view-in-github",
        "colab_type": "text"
      },
      "source": [
        "<a href=\"https://colab.research.google.com/github/JITHIN-ANTONY-JOSEPH/ERP_11358080/blob/main/7_Graph_Based_GCN_Baseline.ipynb\" target=\"_parent\"><img src=\"https://colab.research.google.com/assets/colab-badge.svg\" alt=\"Open In Colab\"/></a>"
      ]
    },
    {
      "cell_type": "markdown",
      "source": [
        "### Mounting to connect to Google Drive"
      ],
      "metadata": {
        "id": "v5PaY5ct34WW"
      }
    },
    {
      "cell_type": "code",
      "execution_count": null,
      "metadata": {
        "colab": {
          "base_uri": "https://localhost:8080/"
        },
        "id": "hUGf5zTwVcKr",
        "outputId": "a44357b5-d8f7-461f-e082-2a55aee6dae2"
      },
      "outputs": [
        {
          "output_type": "stream",
          "name": "stdout",
          "text": [
            "Mounted at /content/drive\n"
          ]
        }
      ],
      "source": [
        "from google.colab import drive\n",
        "drive.mount('/content/drive')"
      ]
    },
    {
      "cell_type": "markdown",
      "source": [
        "### Installing the required libraries"
      ],
      "metadata": {
        "id": "yFi_XOpj37sA"
      }
    },
    {
      "cell_type": "code",
      "source": [
        "!pip install torch_geometric"
      ],
      "metadata": {
        "colab": {
          "base_uri": "https://localhost:8080/"
        },
        "id": "4N8D_4yoXA_Z",
        "outputId": "e5747441-0d64-4dd5-8ff2-919b09eed586"
      },
      "execution_count": null,
      "outputs": [
        {
          "output_type": "stream",
          "name": "stdout",
          "text": [
            "Collecting torch_geometric\n",
            "  Downloading torch_geometric-2.5.3-py3-none-any.whl.metadata (64 kB)\n",
            "\u001b[?25l     \u001b[90m━━━━━━━━━━━━━━━━━━━━━━━━━━━━━━━━━━━━━━━━\u001b[0m \u001b[32m0.0/64.2 kB\u001b[0m \u001b[31m?\u001b[0m eta \u001b[36m-:--:--\u001b[0m\r\u001b[2K     \u001b[91m━━━━━━━━━━━━━━━━━━━━━━━━━━━━━━━━━━━━━━\u001b[0m\u001b[90m╺\u001b[0m\u001b[90m━\u001b[0m \u001b[32m61.4/64.2 kB\u001b[0m \u001b[31m4.9 MB/s\u001b[0m eta \u001b[36m0:00:01\u001b[0m\r\u001b[2K     \u001b[90m━━━━━━━━━━━━━━━━━━━━━━━━━━━━━━━━━━━━━━━━\u001b[0m \u001b[32m64.2/64.2 kB\u001b[0m \u001b[31m1.4 MB/s\u001b[0m eta \u001b[36m0:00:00\u001b[0m\n",
            "\u001b[?25hRequirement already satisfied: tqdm in /usr/local/lib/python3.10/dist-packages (from torch_geometric) (4.66.5)\n",
            "Requirement already satisfied: numpy in /usr/local/lib/python3.10/dist-packages (from torch_geometric) (1.26.4)\n",
            "Requirement already satisfied: scipy in /usr/local/lib/python3.10/dist-packages (from torch_geometric) (1.13.1)\n",
            "Requirement already satisfied: fsspec in /usr/local/lib/python3.10/dist-packages (from torch_geometric) (2024.6.1)\n",
            "Requirement already satisfied: jinja2 in /usr/local/lib/python3.10/dist-packages (from torch_geometric) (3.1.4)\n",
            "Requirement already satisfied: aiohttp in /usr/local/lib/python3.10/dist-packages (from torch_geometric) (3.10.5)\n",
            "Requirement already satisfied: requests in /usr/local/lib/python3.10/dist-packages (from torch_geometric) (2.32.3)\n",
            "Requirement already satisfied: pyparsing in /usr/local/lib/python3.10/dist-packages (from torch_geometric) (3.1.2)\n",
            "Requirement already satisfied: scikit-learn in /usr/local/lib/python3.10/dist-packages (from torch_geometric) (1.3.2)\n",
            "Requirement already satisfied: psutil>=5.8.0 in /usr/local/lib/python3.10/dist-packages (from torch_geometric) (5.9.5)\n",
            "Requirement already satisfied: aiohappyeyeballs>=2.3.0 in /usr/local/lib/python3.10/dist-packages (from aiohttp->torch_geometric) (2.4.0)\n",
            "Requirement already satisfied: aiosignal>=1.1.2 in /usr/local/lib/python3.10/dist-packages (from aiohttp->torch_geometric) (1.3.1)\n",
            "Requirement already satisfied: attrs>=17.3.0 in /usr/local/lib/python3.10/dist-packages (from aiohttp->torch_geometric) (24.2.0)\n",
            "Requirement already satisfied: frozenlist>=1.1.1 in /usr/local/lib/python3.10/dist-packages (from aiohttp->torch_geometric) (1.4.1)\n",
            "Requirement already satisfied: multidict<7.0,>=4.5 in /usr/local/lib/python3.10/dist-packages (from aiohttp->torch_geometric) (6.0.5)\n",
            "Requirement already satisfied: yarl<2.0,>=1.0 in /usr/local/lib/python3.10/dist-packages (from aiohttp->torch_geometric) (1.9.4)\n",
            "Requirement already satisfied: async-timeout<5.0,>=4.0 in /usr/local/lib/python3.10/dist-packages (from aiohttp->torch_geometric) (4.0.3)\n",
            "Requirement already satisfied: MarkupSafe>=2.0 in /usr/local/lib/python3.10/dist-packages (from jinja2->torch_geometric) (2.1.5)\n",
            "Requirement already satisfied: charset-normalizer<4,>=2 in /usr/local/lib/python3.10/dist-packages (from requests->torch_geometric) (3.3.2)\n",
            "Requirement already satisfied: idna<4,>=2.5 in /usr/local/lib/python3.10/dist-packages (from requests->torch_geometric) (3.7)\n",
            "Requirement already satisfied: urllib3<3,>=1.21.1 in /usr/local/lib/python3.10/dist-packages (from requests->torch_geometric) (2.0.7)\n",
            "Requirement already satisfied: certifi>=2017.4.17 in /usr/local/lib/python3.10/dist-packages (from requests->torch_geometric) (2024.7.4)\n",
            "Requirement already satisfied: joblib>=1.1.1 in /usr/local/lib/python3.10/dist-packages (from scikit-learn->torch_geometric) (1.4.2)\n",
            "Requirement already satisfied: threadpoolctl>=2.0.0 in /usr/local/lib/python3.10/dist-packages (from scikit-learn->torch_geometric) (3.5.0)\n",
            "Downloading torch_geometric-2.5.3-py3-none-any.whl (1.1 MB)\n",
            "\u001b[2K   \u001b[90m━━━━━━━━━━━━━━━━━━━━━━━━━━━━━━━━━━━━━━━━\u001b[0m \u001b[32m1.1/1.1 MB\u001b[0m \u001b[31m14.8 MB/s\u001b[0m eta \u001b[36m0:00:00\u001b[0m\n",
            "\u001b[?25hInstalling collected packages: torch_geometric\n",
            "Successfully installed torch_geometric-2.5.3\n"
          ]
        }
      ]
    },
    {
      "cell_type": "markdown",
      "source": [
        "### Loading the prepared knowledge graph"
      ],
      "metadata": {
        "id": "2PDpwkQm3_ha"
      }
    },
    {
      "cell_type": "code",
      "source": [
        "import networkx as nx\n",
        "import pandas as pd\n",
        "import torch\n",
        "from torch_geometric.data import Data\n",
        "\n",
        "# Load the graph from the GraphML file\n",
        "G = nx.read_graphml('/content/drive/My Drive/ERP/knowledge_graph.graphml')\n"
      ],
      "metadata": {
        "id": "uqU7C8flWlbo"
      },
      "execution_count": null,
      "outputs": []
    },
    {
      "cell_type": "markdown",
      "source": [
        "### Generating sub-graph to extract only ingredients"
      ],
      "metadata": {
        "id": "uhK8VZjA4Fae"
      }
    },
    {
      "cell_type": "code",
      "source": [
        "import torch\n",
        "from torch_geometric.utils import from_networkx\n",
        "\n",
        "# Extract subgraph with only ingredient nodes\n",
        "ingredient_nodes = [n for n, attr in G.nodes(data=True) if attr['node_type'] == 'ingredient']\n",
        "G_ingredients = G.subgraph(ingredient_nodes).copy()\n",
        "\n",
        "# Convert NetworkX graph to PyTorch Geometric data object\n",
        "data = from_networkx(G_ingredients)\n",
        "\n",
        "# Initialize node features randomly or using another approach\n",
        "num_features = 64  # Adjust as needed\n",
        "data.x = torch.randn((data.num_nodes, num_features), dtype=torch.float)\n",
        "\n",
        "# Move data to GPU if available\n",
        "device = torch.device('cuda' if torch.cuda.is_available() else 'cpu')\n",
        "data = data.to(device)\n"
      ],
      "metadata": {
        "id": "H1Fbois3XHm4"
      },
      "execution_count": null,
      "outputs": []
    },
    {
      "cell_type": "markdown",
      "source": [
        "### Defining the Neural Network Architecture"
      ],
      "metadata": {
        "id": "JPQw_iEx4MqS"
      }
    },
    {
      "cell_type": "code",
      "source": [
        "import torch.nn.functional as F\n",
        "from torch_geometric.nn import GCNConv\n",
        "import torch\n",
        "# Setting the Neural Network Architecture\n",
        "class GCN(torch.nn.Module):\n",
        "    def __init__(self, hidden_channels):\n",
        "        super(GCN, self).__init__()\n",
        "        torch.manual_seed(42)\n",
        "        self.conv1 = GCNConv(data.num_node_features, hidden_channels)\n",
        "        self.conv2 = GCNConv(hidden_channels, hidden_channels)\n",
        "\n",
        "    def forward(self, data):\n",
        "        x, edge_index = data.x, data.edge_index\n",
        "        x = self.conv1(x, edge_index)\n",
        "        x = F.relu(x)\n",
        "        x = self.conv2(x, edge_index)\n",
        "        return x\n"
      ],
      "metadata": {
        "id": "NeqejTiwXMjI"
      },
      "execution_count": null,
      "outputs": []
    },
    {
      "cell_type": "code",
      "source": [
        "model = GCN(hidden_channels=64)\n",
        "model = model.to(device)\n",
        "optimizer = torch.optim.Adam(model.parameters(), lr=0.01)\n",
        "criterion = torch.nn.MSELoss()\n",
        "\n",
        "# Train the GCN model\n",
        "def train():\n",
        "    model.train()\n",
        "    optimizer.zero_grad()\n",
        "    out = model(data)\n",
        "    loss = criterion(out, data.x)  # Adjust the target as needed\n",
        "    loss.backward()\n",
        "    optimizer.step()\n",
        "    return loss\n",
        "\n",
        "for epoch in range(200):\n",
        "    loss = train()\n",
        "    if epoch % 20 == 0:\n",
        "        print(f'Epoch {epoch}, Loss: {loss.item()}')\n",
        "\n",
        "# Generate node embeddings using the trained GCN model\n",
        "model.eval()\n",
        "with torch.no_grad():\n",
        "    gcn_embeddings = model(data).cpu().numpy()\n"
      ],
      "metadata": {
        "colab": {
          "base_uri": "https://localhost:8080/"
        },
        "id": "c5eGukE5XO1Y",
        "outputId": "d0ce9572-5cee-495c-e47d-d344193a9911"
      },
      "execution_count": null,
      "outputs": [
        {
          "output_type": "stream",
          "name": "stdout",
          "text": [
            "Epoch 0, Loss: 1.002287745475769\n",
            "Epoch 20, Loss: 0.9143369197845459\n",
            "Epoch 40, Loss: 0.8254010081291199\n",
            "Epoch 60, Loss: 0.7786675095558167\n",
            "Epoch 80, Loss: 0.7559046745300293\n",
            "Epoch 100, Loss: 0.7434118390083313\n",
            "Epoch 120, Loss: 0.7362469434738159\n",
            "Epoch 140, Loss: 0.7328438758850098\n",
            "Epoch 160, Loss: 0.7305194139480591\n",
            "Epoch 180, Loss: 0.7289988994598389\n"
          ]
        }
      ]
    },
    {
      "cell_type": "markdown",
      "source": [
        "### Evaluation of the model"
      ],
      "metadata": {
        "id": "Ev2nOrAB4S8H"
      }
    },
    {
      "cell_type": "code",
      "source": [
        "from sklearn.metrics.pairwise import cosine_similarity\n",
        "# Create a mapping from node name to GCN embeddings\n",
        "node_to_embedding = {name: gcn_embeddings[i] for i, name in enumerate(G_ingredients.nodes())}\n",
        "\n",
        "# Function to get substitutes for a specific ingredient name\n",
        "def get_gcn_substitutes_by_name(ingredient_name, top_n=10):\n",
        "    if ingredient_name in node_to_embedding:\n",
        "        similar_ingredients = sorted(\n",
        "            node_to_embedding.keys(),\n",
        "            key=lambda ing: cosine_similarity([node_to_embedding[ingredient_name]], [node_to_embedding[ing]])[0][0],\n",
        "            reverse=True\n",
        "        )[:top_n]\n",
        "        substitutes = [ingredient for ingredient in similar_ingredients if ingredient != ingredient_name]\n",
        "        return substitutes\n",
        "    else:\n",
        "        print(f\"Ingredient '{ingredient_name}' not found in the model.\")\n",
        "        return []\n",
        "\n",
        "# Example usage\n",
        "specific_ingredient_name = 'fruit'  # Replace with your specific ingredient name\n",
        "substitutes = get_gcn_substitutes_by_name(specific_ingredient_name)\n",
        "print(f\"Substitutes for {specific_ingredient_name}: {substitutes}\")"
      ],
      "metadata": {
        "colab": {
          "base_uri": "https://localhost:8080/"
        },
        "id": "m1heFd3ZehqI",
        "outputId": "5e647531-2fef-44f2-8830-54a3b6d677a4"
      },
      "execution_count": null,
      "outputs": [
        {
          "output_type": "stream",
          "name": "stdout",
          "text": [
            "Substitutes for fruit: ['liquid_coffee_creamer', 'juice', 'ice_cream', 'fruit_pectin', 'fresh_fruit', 'granola_cereal', 'plum_tomato', 'hp_steak_sauce', 'fresh_cream']\n"
          ]
        }
      ]
    },
    {
      "cell_type": "code",
      "source": [
        "import pandas as pd\n",
        "from sklearn.metrics.pairwise import cosine_similarity\n",
        "from concurrent.futures import ProcessPoolExecutor\n",
        "import numpy as np\n",
        "\n",
        "# Create a mapping from node name to GCN embeddings\n",
        "node_to_embedding = {name: gcn_embeddings[i] for i, name in enumerate(G_ingredients.nodes())}\n",
        "\n",
        "# Function to generate predictions for the validation set\n",
        "def generate_predictions(validation_pairs, embeddings):\n",
        "    predictions = []\n",
        "    for _, row in validation_pairs.iterrows():\n",
        "        ingredient1 = row['ingredient1']\n",
        "        if ingredient1 in embeddings:\n",
        "            similar_ingredients = sorted(\n",
        "                embeddings.keys(),\n",
        "                key=lambda ing: cosine_similarity([embeddings[ingredient1]], [embeddings[ing]])[0][0],\n",
        "                reverse=True\n",
        "            )[:10]\n",
        "            predictions.append(similar_ingredients)\n",
        "        else:\n",
        "            predictions.append([])\n",
        "    return predictions\n",
        "\n",
        "# Load the substitution pairs\n",
        "substitution_pairs_df = pd.read_csv('/content/drive/My Drive/ERP/Recipe1MSubs_full.csv')\n",
        "\n",
        "# Generate predictions for the validation set\n",
        "val_ground_truths = substitution_pairs_df['ingredient2'].tolist()\n",
        "\n",
        "# Use multiprocessing to generate predictions faster\n",
        "def batch_generate_predictions(batch):\n",
        "    return generate_predictions(batch, node_to_embedding)\n",
        "\n",
        "# Split validation pairs into batches\n",
        "num_batches = 8  # Adjust based on your CPU cores\n",
        "batches = np.array_split(substitution_pairs_df, num_batches)\n",
        "\n",
        "with ProcessPoolExecutor(max_workers=num_batches) as executor:\n",
        "    results = list(executor.map(batch_generate_predictions, batches))\n",
        "\n",
        "# Flatten the list of results\n",
        "val_predictions = [item for sublist in results for item in sublist]"
      ],
      "metadata": {
        "colab": {
          "base_uri": "https://localhost:8080/"
        },
        "id": "37OIbYNTfkX2",
        "outputId": "d8232200-aed7-44a2-f288-f1ead1a44093"
      },
      "execution_count": null,
      "outputs": [
        {
          "output_type": "stream",
          "name": "stderr",
          "text": [
            "/usr/local/lib/python3.10/dist-packages/numpy/core/fromnumeric.py:59: FutureWarning: 'DataFrame.swapaxes' is deprecated and will be removed in a future version. Please use 'DataFrame.transpose' instead.\n",
            "  return bound(*args, **kwds)\n"
          ]
        }
      ]
    },
    {
      "cell_type": "code",
      "source": [
        "# Function to calculate MRR, Hit@1, Hit@3, Hit@10\n",
        "def calculate_metrics(predictions, ground_truths):\n",
        "    mrr = 0.0\n",
        "    hit_1 = 0.0\n",
        "    hit_3 = 0.0\n",
        "    hit_10 = 0.0\n",
        "    for pred, gt in zip(predictions, ground_truths):\n",
        "        for i, candidate in enumerate(pred):\n",
        "            if gt == candidate:\n",
        "                rank = i + 1\n",
        "                mrr += 1.0 / rank\n",
        "                if rank == 1:\n",
        "                    hit_1 += 1.0\n",
        "                if rank <= 3:\n",
        "                    hit_3 += 1.0\n",
        "                if rank <= 10:\n",
        "                    hit_10 += 1.0\n",
        "                break\n",
        "    mrr /= len(ground_truths)\n",
        "    hit_1 /= len(ground_truths)\n",
        "    hit_3 /= len(ground_truths)\n",
        "    hit_10 /= len(ground_truths)\n",
        "    return mrr, hit_1, hit_3, hit_10\n",
        "\n",
        "# Calculate metrics for the GCN model\n",
        "mrr, hit_1, hit_3, hit_10 = calculate_metrics(val_predictions, val_ground_truths)\n",
        "\n",
        "print(f\"GCN: MRR: {mrr:.4f}, Hit@1: {hit_1:.4f}, Hit@3: {hit_3:.4f}, Hit@10: {hit_10:.4f}\")\n"
      ],
      "metadata": {
        "colab": {
          "base_uri": "https://localhost:8080/"
        },
        "id": "N6JWfGk4fqgX",
        "outputId": "d10bb92d-c313-48f9-9c2d-ec17156154eb"
      },
      "execution_count": null,
      "outputs": [
        {
          "output_type": "stream",
          "name": "stdout",
          "text": [
            "GCN: MRR: 0.0111, Hit@1: 0.0000, Hit@3: 0.0163, Hit@10: 0.0407\n"
          ]
        }
      ]
    }
  ]
}