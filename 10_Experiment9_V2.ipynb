{
  "nbformat": 4,
  "nbformat_minor": 0,
  "metadata": {
    "colab": {
      "provenance": [],
      "machine_shape": "hm",
      "collapsed_sections": [
        "7Vg_HTNEYNz0"
      ],
      "authorship_tag": "ABX9TyPd15D42JX0GKBKkwOXT2jq",
      "include_colab_link": true
    },
    "kernelspec": {
      "name": "python3",
      "display_name": "Python 3"
    },
    "language_info": {
      "name": "python"
    }
  },
  "cells": [
    {
      "cell_type": "markdown",
      "metadata": {
        "id": "view-in-github",
        "colab_type": "text"
      },
      "source": [
        "<a href=\"https://colab.research.google.com/github/JITHIN-ANTONY-JOSEPH/ERP_11358080/blob/main/10_Experiment9_V2.ipynb\" target=\"_parent\"><img src=\"https://colab.research.google.com/assets/colab-badge.svg\" alt=\"Open In Colab\"/></a>"
      ]
    },
    {
      "cell_type": "markdown",
      "source": [
        "### Input : Recipe Instructions\n",
        "### Model : Word2Vec(Text) + Node2Vec(Graph) + Attention based Neural Networks(Model) with Negative Sampling -> V1(BATCH SIZE = 128)"
      ],
      "metadata": {
        "id": "5PUHRi_VdL03"
      }
    },
    {
      "cell_type": "markdown",
      "source": [
        "### Mounting to connect to Google Drive"
      ],
      "metadata": {
        "id": "7Vg_HTNEYNz0"
      }
    },
    {
      "cell_type": "code",
      "execution_count": null,
      "metadata": {
        "colab": {
          "base_uri": "https://localhost:8080/"
        },
        "id": "eCL0NsqYQ88N",
        "outputId": "d75225cd-ad82-4e6d-c846-4effdd279db0"
      },
      "outputs": [
        {
          "output_type": "stream",
          "name": "stdout",
          "text": [
            "Drive already mounted at /content/drive; to attempt to forcibly remount, call drive.mount(\"/content/drive\", force_remount=True).\n"
          ]
        }
      ],
      "source": [
        "from google.colab import drive\n",
        "drive.mount('/content/drive')"
      ]
    },
    {
      "cell_type": "markdown",
      "source": [
        "### Importing required libraries , loading datasets and pre-processing"
      ],
      "metadata": {
        "id": "rqDB8090YRIE"
      }
    },
    {
      "cell_type": "code",
      "source": [
        "import numpy as np\n",
        "import pandas as pd\n",
        "import torch\n",
        "import torch.nn as nn\n",
        "import torch.optim as optim\n",
        "import torch.nn.functional as F\n",
        "from sklearn.metrics.pairwise import cosine_similarity\n",
        "import random\n",
        "import jellyfish\n",
        "from gensim.models import Word2Vec\n",
        "import pickle\n",
        "import networkx as nx\n",
        "import json\n",
        "\n",
        "# Load the main dataset (modify the path as per your setup)\n",
        "with open('/content/drive/My Drive/ERP/modified_Processed_Layer1.json', 'r') as file: # Adjust the path as needed , this is the path to my personal Google Drive\n",
        "    recipe1m_data = [json.loads(line) for line in file]\n",
        "recipe1m_df = pd.DataFrame(recipe1m_data)\n",
        "\n",
        "# Load the substitution pairs (modify the path as per your setup)\n",
        "substitution_pairs_df = pd.read_csv('/content/drive/My Drive/ERP/Recipe1MSubs_full.csv') # Adjust the path as needed , this is the path to my personal Google Drive\n",
        "\n",
        "# Load flavor graph nodes (modify the path as per your setup)\n",
        "flavorgraph_df = pd.read_csv('/content/drive/My Drive/ERP/Dataset/nodes_191120.csv') # Adjust the path as needed , this is the path to my personal Google Drive\n",
        "\n",
        "# Load the precomputed graph embeddings\n",
        "with open('/content/drive/My Drive/ERP/MODEL_BEST_NUMBERS/graph_embeddings.pkl', 'rb') as f: # Adjust the path as needed , this is the path to my personal Google Drive\n",
        "    graph_embeddings = pickle.load(f)\n",
        "\n",
        "# Ingredient list for NER-like extraction\n",
        "ingredient_list = set(flavorgraph_df[flavorgraph_df['node_type'] == 'ingredient']['name'].dropna().unique())\n",
        "\n",
        "# Function to extract ingredients from instructions\n",
        "def extract_ingredients_from_instructions(instructions, ingredient_list):\n",
        "    extracted_ingredients = []\n",
        "    for instruction in instructions:\n",
        "        words = instruction.split()\n",
        "        for word in words:\n",
        "            if word in ingredient_list:\n",
        "                extracted_ingredients.append(word)\n",
        "    return extracted_ingredients\n",
        "\n",
        "# Apply the extraction function\n",
        "recipe1m_df['extracted_ingredients'] = recipe1m_df['processed_instructions'].apply(\n",
        "    lambda instructions: extract_ingredients_from_instructions(instructions, ingredient_list) if isinstance(instructions, list) else []\n",
        ")\n",
        "\n",
        "# Prepare sentences for training the Word2Vec model\n",
        "sentences = recipe1m_df['extracted_ingredients'].tolist()\n",
        "\n",
        "# Add substitution contexts to sentences\n",
        "for _, row in substitution_pairs_df.iterrows():\n",
        "    ingredient1 = row['ingredient1']\n",
        "    ingredient2 = row['ingredient2']\n",
        "    sentences.append([ingredient1, ingredient2])\n",
        "\n",
        "# Train the Word2Vec model\n",
        "model = Word2Vec(sentences, vector_size=100, window=5, min_count=1, workers=8)\n",
        "\n",
        "# Generate valid substitutes dictionary\n",
        "valid_substitutes = {}\n",
        "for _, row in substitution_pairs_df.iterrows():\n",
        "    ing1 = row['ingredient1']\n",
        "    ing2 = row['ingredient2']\n",
        "    if ing1 not in valid_substitutes:\n",
        "        valid_substitutes[ing1] = set()\n",
        "    valid_substitutes[ing1].add(ing2)\n"
      ],
      "metadata": {
        "id": "tQo6-fJkWTWk"
      },
      "execution_count": null,
      "outputs": []
    },
    {
      "cell_type": "markdown",
      "source": [
        "### Function to generate combined emedding"
      ],
      "metadata": {
        "id": "NHojo1gRYUCe"
      }
    },
    {
      "cell_type": "code",
      "source": [
        "def get_combined_embedding(ingredient, text_embeddings, graph_embeddings):\n",
        "    # Get text embedding\n",
        "    if ingredient in text_embeddings:\n",
        "        text_embedding = text_embeddings[ingredient]\n",
        "    else:\n",
        "        text_embedding = np.zeros(100)\n",
        "\n",
        "    # Get graph embedding\n",
        "    if ingredient in graph_embeddings:\n",
        "        graph_embedding = graph_embeddings[ingredient]\n",
        "    else:\n",
        "        graph_embedding = np.zeros(100)\n",
        "\n",
        "    # Combine embeddings by concatenation\n",
        "    combined_embedding = np.concatenate((text_embedding, graph_embedding))\n",
        "\n",
        "    return combined_embedding"
      ],
      "metadata": {
        "id": "WDhGQ9gOXuRt"
      },
      "execution_count": null,
      "outputs": []
    },
    {
      "cell_type": "code",
      "source": [
        "# Prepare training data with negative sampling\n",
        "train_data = []\n",
        "train_labels = []\n",
        "negative_samples = []\n",
        "negative_labels = []\n",
        "\n",
        "for _, row in substitution_pairs_df.iterrows():\n",
        "    ing1 = row['ingredient1']\n",
        "    ing2 = row['ingredient2']\n",
        "\n",
        "    combined_embedding1 = get_combined_embedding(ing1, model.wv, graph_embeddings)\n",
        "    combined_embedding2 = get_combined_embedding(ing2, model.wv, graph_embeddings)\n",
        "\n",
        "    train_data.append(combined_embedding1)\n",
        "    train_labels.append(combined_embedding2)\n",
        "\n",
        "    # Generate negative samples by excluding valid substitutes\n",
        "    possible_negatives = [ing for ing in ingredient_list if ing != ing1 and ing not in valid_substitutes.get(ing1, set())]\n",
        "    selected_negatives = random.sample(possible_negatives, min(100, len(possible_negatives)))\n",
        "\n",
        "    for neg in selected_negatives:\n",
        "        neg_embedding = get_combined_embedding(neg, model.wv, graph_embeddings)\n",
        "        negative_labels.append(neg_embedding)\n",
        "        negative_samples.append(combined_embedding1)"
      ],
      "metadata": {
        "id": "2Bcdn4oXiHwF"
      },
      "execution_count": null,
      "outputs": []
    },
    {
      "cell_type": "markdown",
      "source": [
        "### Defining the attention based neural network and Combined Model run"
      ],
      "metadata": {
        "id": "PbwwbYB8YXoQ"
      }
    },
    {
      "cell_type": "code",
      "source": [
        "import numpy as np\n",
        "import pandas as pd\n",
        "import torch\n",
        "import torch.nn as nn\n",
        "import torch.optim as optim\n",
        "import torch.nn.functional as F\n",
        "from sklearn.metrics.pairwise import cosine_similarity\n",
        "import json\n",
        "import jellyfish\n",
        "import random\n",
        "\n",
        "# Define the neural network with attention\n",
        "class AttentionLayer(nn.Module):\n",
        "    def __init__(self, input_dim, attention_dim):\n",
        "        super(AttentionLayer, self).__init__()\n",
        "        self.fc1 = nn.Linear(input_dim, attention_dim)\n",
        "        self.fc2 = nn.Linear(attention_dim, 1)\n",
        "\n",
        "    def forward(self, x):\n",
        "        # Compute attention scores\n",
        "        attention_scores = torch.tanh(self.fc1(x))\n",
        "        attention_scores = self.fc2(attention_scores).squeeze(-1)\n",
        "        attention_weights = F.softmax(attention_scores, dim=-1)\n",
        "\n",
        "        # Apply attention weights to input\n",
        "        weighted_sum = torch.sum(attention_weights.unsqueeze(-1) * x, dim=1)\n",
        "        return weighted_sum\n",
        "\n",
        "class CombinedNN(nn.Module):\n",
        "    def __init__(self, input_dim, output_dim, attention_dim=64):\n",
        "        super(CombinedNN, self).__init__()\n",
        "        self.attention_layer = AttentionLayer(input_dim, attention_dim)\n",
        "        self.fc1 = nn.Linear(input_dim, 128)\n",
        "        self.fc2 = nn.Linear(128, output_dim)\n",
        "        self.dropout = nn.Dropout(0.5)\n",
        "\n",
        "    def forward(self, x):\n",
        "        # Apply attention\n",
        "        if x.dim() == 2:  # Ensure x is 3D: [batch_size, sequence_length, input_dim]\n",
        "            x = x.unsqueeze(1)\n",
        "        x = self.attention_layer(x)\n",
        "\n",
        "        # Feed-forward layers\n",
        "        x = F.relu(self.fc1(x))\n",
        "        x = self.dropout(x)\n",
        "        x = self.fc2(x)\n",
        "        return x\n",
        "\n",
        "# Convert to tensors\n",
        "train_data = torch.tensor(np.array(train_data), dtype=torch.float32)\n",
        "train_labels = torch.tensor(np.array(train_labels), dtype=torch.float32)\n",
        "negative_samples = torch.tensor(np.array(negative_samples), dtype=torch.float32)\n",
        "negative_labels = torch.tensor(np.array(negative_labels), dtype=torch.float32)\n",
        "\n",
        "# Instantiate the model\n",
        "nn_model = CombinedNN(input_dim=200, output_dim=200)  # Combined embedding dimension is 200 (100 + 100)\n",
        "criterion = nn.MSELoss()\n",
        "optimizer = optim.Adam(nn_model.parameters(), lr=0.001)\n",
        "\n",
        "# Training loop with negative sampling\n",
        "batch_size = 128  # Define your batch size here\n",
        "num_epochs = 100  # Number of epochs\n",
        "\n",
        "for epoch in range(num_epochs):\n",
        "    nn_model.train()\n",
        "    permutation = torch.randperm(train_data.size(0))\n",
        "\n",
        "    for i in range(0, train_data.size(0), batch_size):\n",
        "        indices = permutation[i:i + batch_size]\n",
        "        batch_data = train_data[indices]\n",
        "        batch_labels = train_labels[indices]\n",
        "\n",
        "        optimizer.zero_grad()\n",
        "\n",
        "        # Forward pass\n",
        "        outputs = nn_model(batch_data)\n",
        "        loss = criterion(outputs, batch_labels)\n",
        "\n",
        "        # Negative pair loss (contrastive or margin-based loss)\n",
        "        neg_indices = permutation[i:i + batch_size]\n",
        "        batch_neg_samples = negative_samples[neg_indices]\n",
        "        neg_outputs = nn_model(batch_neg_samples)\n",
        "\n",
        "        expanded_outputs = outputs.repeat_interleave(len(neg_indices) // len(indices), dim=0)\n",
        "        negative_loss = torch.mean(torch.relu(1.0 - torch.sum(expanded_outputs * neg_outputs, dim=1)))\n",
        "\n",
        "        total_loss = loss + negative_loss\n",
        "        total_loss.backward()\n",
        "        optimizer.step()\n",
        "\n",
        "    print(f'Epoch {epoch + 1}/{num_epochs}, Loss: {total_loss.item()}')\n",
        "\n",
        "# Validation process as per previous code\n",
        "# Function to calculate cosine similarity and rank top substitutes, etc.\n",
        "# Calculate metrics for validation\n"
      ],
      "metadata": {
        "colab": {
          "base_uri": "https://localhost:8080/"
        },
        "id": "Jf6p7KHyab8E",
        "outputId": "37732738-0db7-48d9-f350-97bc4b6ea894"
      },
      "execution_count": null,
      "outputs": [
        {
          "output_type": "stream",
          "name": "stdout",
          "text": [
            "Epoch 1/100, Loss: 0.6873063445091248\n",
            "Epoch 2/100, Loss: 0.6528133749961853\n",
            "Epoch 3/100, Loss: 0.7139190435409546\n",
            "Epoch 4/100, Loss: 0.6652897596359253\n",
            "Epoch 5/100, Loss: 0.6944208145141602\n",
            "Epoch 6/100, Loss: 0.6522852778434753\n",
            "Epoch 7/100, Loss: 0.5993839502334595\n",
            "Epoch 8/100, Loss: 0.6662512421607971\n",
            "Epoch 9/100, Loss: 0.6188412308692932\n",
            "Epoch 10/100, Loss: 0.6447959542274475\n",
            "Epoch 11/100, Loss: 0.6572091579437256\n",
            "Epoch 12/100, Loss: 0.6761915683746338\n",
            "Epoch 13/100, Loss: 0.6150991916656494\n",
            "Epoch 14/100, Loss: 0.6020552515983582\n",
            "Epoch 15/100, Loss: 0.6164640784263611\n",
            "Epoch 16/100, Loss: 0.6408690214157104\n",
            "Epoch 17/100, Loss: 0.6380998492240906\n",
            "Epoch 18/100, Loss: 0.6558237075805664\n",
            "Epoch 19/100, Loss: 0.5994770526885986\n",
            "Epoch 20/100, Loss: 0.686007559299469\n",
            "Epoch 21/100, Loss: 0.641018807888031\n",
            "Epoch 22/100, Loss: 0.6269079446792603\n",
            "Epoch 23/100, Loss: 0.7093823552131653\n",
            "Epoch 24/100, Loss: 0.6532923579216003\n",
            "Epoch 25/100, Loss: 0.6271932721138\n",
            "Epoch 26/100, Loss: 0.6600909233093262\n",
            "Epoch 27/100, Loss: 0.6380347609519958\n",
            "Epoch 28/100, Loss: 0.6009555459022522\n",
            "Epoch 29/100, Loss: 0.6282106041908264\n",
            "Epoch 30/100, Loss: 0.6608068943023682\n",
            "Epoch 31/100, Loss: 0.6357806324958801\n",
            "Epoch 32/100, Loss: 0.6708038449287415\n",
            "Epoch 33/100, Loss: 0.6426030993461609\n",
            "Epoch 34/100, Loss: 0.6797024011611938\n",
            "Epoch 35/100, Loss: 0.610299289226532\n",
            "Epoch 36/100, Loss: 0.6826993823051453\n",
            "Epoch 37/100, Loss: 0.6166927218437195\n",
            "Epoch 38/100, Loss: 0.6280381679534912\n",
            "Epoch 39/100, Loss: 0.6181355714797974\n",
            "Epoch 40/100, Loss: 0.574766218662262\n",
            "Epoch 41/100, Loss: 0.6731005311012268\n",
            "Epoch 42/100, Loss: 0.6088272333145142\n",
            "Epoch 43/100, Loss: 0.602878749370575\n",
            "Epoch 44/100, Loss: 0.616517186164856\n",
            "Epoch 45/100, Loss: 0.7008612751960754\n",
            "Epoch 46/100, Loss: 0.6508346796035767\n",
            "Epoch 47/100, Loss: 0.6639975905418396\n",
            "Epoch 48/100, Loss: 0.6898984909057617\n",
            "Epoch 49/100, Loss: 0.6214809417724609\n",
            "Epoch 50/100, Loss: 0.6525436043739319\n",
            "Epoch 51/100, Loss: 0.6570026874542236\n",
            "Epoch 52/100, Loss: 0.6739651560783386\n",
            "Epoch 53/100, Loss: 0.6421871781349182\n",
            "Epoch 54/100, Loss: 0.6644311547279358\n",
            "Epoch 55/100, Loss: 0.6326431035995483\n",
            "Epoch 56/100, Loss: 0.6806396245956421\n",
            "Epoch 57/100, Loss: 0.6146245002746582\n",
            "Epoch 58/100, Loss: 0.618563711643219\n",
            "Epoch 59/100, Loss: 0.6928478479385376\n",
            "Epoch 60/100, Loss: 0.6060512065887451\n",
            "Epoch 61/100, Loss: 0.5928313136100769\n",
            "Epoch 62/100, Loss: 0.6497273445129395\n",
            "Epoch 63/100, Loss: 0.6325401663780212\n",
            "Epoch 64/100, Loss: 0.67999267578125\n",
            "Epoch 65/100, Loss: 0.6724034547805786\n",
            "Epoch 66/100, Loss: 0.6249102354049683\n",
            "Epoch 67/100, Loss: 0.637770414352417\n",
            "Epoch 68/100, Loss: 0.6111365556716919\n",
            "Epoch 69/100, Loss: 0.6506977081298828\n",
            "Epoch 70/100, Loss: 0.6254058480262756\n",
            "Epoch 71/100, Loss: 0.6699629426002502\n",
            "Epoch 72/100, Loss: 0.6128135919570923\n",
            "Epoch 73/100, Loss: 0.7101531028747559\n",
            "Epoch 74/100, Loss: 0.6258990168571472\n",
            "Epoch 75/100, Loss: 0.6362683773040771\n",
            "Epoch 76/100, Loss: 0.667321503162384\n",
            "Epoch 77/100, Loss: 0.6985880732536316\n",
            "Epoch 78/100, Loss: 0.6720730066299438\n",
            "Epoch 79/100, Loss: 0.6797747015953064\n",
            "Epoch 80/100, Loss: 0.6744254231452942\n",
            "Epoch 81/100, Loss: 0.652488112449646\n",
            "Epoch 82/100, Loss: 0.6729934811592102\n",
            "Epoch 83/100, Loss: 0.6140349507331848\n",
            "Epoch 84/100, Loss: 0.6512206196784973\n",
            "Epoch 85/100, Loss: 0.5822980403900146\n",
            "Epoch 86/100, Loss: 0.6233823299407959\n",
            "Epoch 87/100, Loss: 0.6006870865821838\n",
            "Epoch 88/100, Loss: 0.6381545662879944\n",
            "Epoch 89/100, Loss: 0.6094538569450378\n",
            "Epoch 90/100, Loss: 0.614625871181488\n",
            "Epoch 91/100, Loss: 0.6192436814308167\n",
            "Epoch 92/100, Loss: 0.6232897639274597\n",
            "Epoch 93/100, Loss: 0.6652119159698486\n",
            "Epoch 94/100, Loss: 0.6430699825286865\n",
            "Epoch 95/100, Loss: 0.6225792765617371\n",
            "Epoch 96/100, Loss: 0.6236240863800049\n",
            "Epoch 97/100, Loss: 0.6180480718612671\n",
            "Epoch 98/100, Loss: 0.6643304228782654\n",
            "Epoch 99/100, Loss: 0.6516901254653931\n",
            "Epoch 100/100, Loss: 0.6579622626304626\n"
          ]
        }
      ]
    },
    {
      "cell_type": "markdown",
      "source": [
        "### Evaluation"
      ],
      "metadata": {
        "id": "d1HUZsMiYkXJ"
      }
    },
    {
      "cell_type": "code",
      "source": [
        "# Validation process\n",
        "val_data = []\n",
        "val_labels = []\n",
        "\n",
        "for _, row in substitution_pairs_df.iterrows():\n",
        "    if len(val_data) >= 500:\n",
        "        break\n",
        "    ing1 = row['ingredient1']\n",
        "    ing2 = row['ingredient2']  # Ground truth label for validation\n",
        "\n",
        "    combined_embedding = get_combined_embedding(ing1, model.wv, graph_embeddings)\n",
        "    val_data.append(combined_embedding)\n",
        "    val_labels.append(ing2)\n",
        "\n",
        "val_data = torch.tensor(np.array(val_data), dtype=torch.float32)\n",
        "nn_model.eval()\n",
        "\n",
        "# Function to find the top N most similar ingredients based on cosine similarity\n",
        "def find_top_similar_ingredients(predicted_embedding, combined_embeddings, top_n=10):\n",
        "    similarities = {}\n",
        "    for ingredient, embedding in combined_embeddings.items():\n",
        "        similarity = cosine_similarity(predicted_embedding.reshape(1, -1), embedding.reshape(1, -1))[0][0]\n",
        "        similarities[ingredient] = similarity\n",
        "    sorted_ingredients = sorted(similarities.items(), key=lambda item: item[1], reverse=True)\n",
        "    return [ingredient for ingredient, similarity in sorted_ingredients[:top_n]]\n",
        "\n",
        "# Function to calculate metrics with Jaro-Winkler similarity threshold\n",
        "def calculate_metrics(predictions, ground_truths, combined_embeddings, top_n=10, threshold=0.8):\n",
        "    mrr, hit_1, hit_3, hit_10 = 0.0, 0.0, 0.0, 0.0\n",
        "    total = len(ground_truths)\n",
        "\n",
        "    for pred, gt in zip(predictions, ground_truths):\n",
        "        top_similar = find_top_similar_ingredients(pred, combined_embeddings, top_n=top_n)\n",
        "        for rank, candidate in enumerate(top_similar, start=1):\n",
        "            sim = jellyfish.jaro_winkler_similarity(gt, candidate)\n",
        "            if sim >= threshold:\n",
        "                mrr += 1.0 / rank\n",
        "                if rank == 1:\n",
        "                    hit_1 += 1.0\n",
        "                if rank <= 3:\n",
        "                    hit_3 += 1.0\n",
        "                if rank <= 10:\n",
        "                    hit_10 += 1.0\n",
        "                break\n",
        "\n",
        "    mrr /= total\n",
        "    hit_1 /= total\n",
        "    hit_3 /= total\n",
        "    hit_10 /= total\n",
        "    return mrr, hit_1, hit_3, hit_10\n",
        "\n",
        "# Final evaluation\n",
        "with torch.no_grad():\n",
        "    val_predictions = nn_model(val_data).detach().numpy()\n",
        "combined_embeddings = {ingredient: get_combined_embedding(ingredient, model.wv, graph_embeddings) for ingredient in model.wv.index_to_key}\n",
        "\n",
        "mrr, hit_1, hit_3, hit_10 = calculate_metrics(val_predictions, val_labels, combined_embeddings)\n",
        "\n",
        "print(f\"MRR: {mrr:.4f}, Hit@1: {hit_1:.4f}, Hit@3: {hit_3:.4f}, Hit@10: {hit_10:.4f}\")\n"
      ],
      "metadata": {
        "colab": {
          "base_uri": "https://localhost:8080/"
        },
        "id": "IACz3UhwazSd",
        "outputId": "0d94ef0e-8915-473f-f9b2-1aa8d61a2bb4"
      },
      "execution_count": null,
      "outputs": [
        {
          "output_type": "stream",
          "name": "stdout",
          "text": [
            "MRR: 0.1675, Hit@1: 0.1060, Hit@3: 0.2000, Hit@10: 0.3140\n"
          ]
        }
      ]
    }
  ]
}