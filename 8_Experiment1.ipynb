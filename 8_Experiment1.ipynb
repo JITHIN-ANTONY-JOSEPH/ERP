{
  "nbformat": 4,
  "nbformat_minor": 0,
  "metadata": {
    "colab": {
      "provenance": [],
      "machine_shape": "hm",
      "collapsed_sections": [
        "NfEGZJgA8Zx_",
        "MIFJmSRW8b1p",
        "15GZH9-p8fS7",
        "Stb-fgPW8jVV",
        "nbULr3QD8n13",
        "4OZrfZh98u3y",
        "cCIayuy_8xK0",
        "r6MX49ub81tX"
      ],
      "authorship_tag": "ABX9TyMA7KGF6fRVgkVETf8EEk6t",
      "include_colab_link": true
    },
    "kernelspec": {
      "name": "python3",
      "display_name": "Python 3"
    },
    "language_info": {
      "name": "python"
    }
  },
  "cells": [
    {
      "cell_type": "markdown",
      "metadata": {
        "id": "view-in-github",
        "colab_type": "text"
      },
      "source": [
        "<a href=\"https://colab.research.google.com/github/JITHIN-ANTONY-JOSEPH/ERP_11358080/blob/main/8_Experiment1.ipynb\" target=\"_parent\"><img src=\"https://colab.research.google.com/assets/colab-badge.svg\" alt=\"Open In Colab\"/></a>"
      ]
    },
    {
      "cell_type": "markdown",
      "source": [
        "Please note , this notebook unlike others has been changed to run for whole datasets if suitable computational power is available."
      ],
      "metadata": {
        "id": "maTEYdnA8A9B"
      }
    },
    {
      "cell_type": "markdown",
      "source": [
        "### Input : Recipe Ingredients\n",
        "### Model : BERT(Text) + GCN(Graph) + Neural Networks(Model)"
      ],
      "metadata": {
        "id": "xrSFTdqPYSrT"
      }
    },
    {
      "cell_type": "markdown",
      "source": [
        "### Mounting to connect to Google Drive"
      ],
      "metadata": {
        "id": "NfEGZJgA8Zx_"
      }
    },
    {
      "cell_type": "code",
      "execution_count": null,
      "metadata": {
        "colab": {
          "base_uri": "https://localhost:8080/"
        },
        "id": "S1C9HZLf2yuc",
        "outputId": "6390642f-dadc-4787-a540-1364008af713"
      },
      "outputs": [
        {
          "output_type": "stream",
          "name": "stdout",
          "text": [
            "Drive already mounted at /content/drive; to attempt to forcibly remount, call drive.mount(\"/content/drive\", force_remount=True).\n"
          ]
        }
      ],
      "source": [
        "from google.colab import drive\n",
        "drive.mount('/content/drive')"
      ]
    },
    {
      "cell_type": "markdown",
      "source": [
        "### Install required libraries"
      ],
      "metadata": {
        "id": "MIFJmSRW8b1p"
      }
    },
    {
      "cell_type": "code",
      "source": [
        "!pip install torch_geometric"
      ],
      "metadata": {
        "id": "DK491Ht85xIn"
      },
      "execution_count": null,
      "outputs": []
    },
    {
      "cell_type": "markdown",
      "source": [
        "### Loading the required datasets"
      ],
      "metadata": {
        "id": "15GZH9-p8fS7"
      }
    },
    {
      "cell_type": "code",
      "source": [
        "import pandas as pd\n",
        "import json\n",
        "\n",
        "# Load Recipe1M data\n",
        "with open('/content/drive/My Drive/ERP/modified_Processed_Layer1.json', 'r') as file:\n",
        "    recipe1m_data = [json.loads(line) for line in file]\n",
        "\n",
        "recipe1m_df = pd.DataFrame(recipe1m_data)\n",
        "\n",
        "recipe1m_df = recipe1m_df\n",
        "recipe1m_df['ingredients'] = recipe1m_df['processed_ingredients'].apply(lambda x: ' '.join(x))\n"
      ],
      "metadata": {
        "id": "yjcnld0U48O_"
      },
      "execution_count": null,
      "outputs": []
    },
    {
      "cell_type": "code",
      "source": [
        "import networkx as nx\n",
        "\n",
        "# Load the knowledge graph from the GraphML file\n",
        "G = nx.read_graphml('/content/drive/My Drive/ERP/knowledge_graph.graphml')\n",
        "\n",
        "# Extract subgraph with only ingredient nodes\n",
        "ingredient_nodes = [n for n, attr in G.nodes(data=True) if attr['node_type'] == 'ingredient']\n",
        "G_ingredients = G.subgraph(ingredient_nodes).copy()"
      ],
      "metadata": {
        "id": "QDASL-Pj5McE"
      },
      "execution_count": null,
      "outputs": []
    },
    {
      "cell_type": "markdown",
      "source": [
        "### Initialising BERT"
      ],
      "metadata": {
        "id": "Stb-fgPW8jVV"
      }
    },
    {
      "cell_type": "code",
      "source": [
        "from transformers import BertTokenizer, BertModel\n",
        "import torch\n",
        "\n",
        "# Load pre-trained BERT model and tokenizer\n",
        "tokenizer = BertTokenizer.from_pretrained('bert-base-uncased')\n",
        "bert_model = BertModel.from_pretrained('bert-base-uncased')\n",
        "\n",
        "# Generate embeddings for each recipe's ingredients\n",
        "ingredient_embeddings = {}\n",
        "for index, row in recipe1m_df.iterrows():\n",
        "    ingredients_text = row['ingredients']\n",
        "    inputs = tokenizer(ingredients_text, return_tensors=\"pt\", max_length=512, truncation=True)\n",
        "    outputs = bert_model(**inputs)\n",
        "    ingredient_embeddings[row['id']] = outputs.last_hidden_state[:, 0, :].squeeze().detach().numpy()"
      ],
      "metadata": {
        "id": "Tgdi6HAJ5S7n"
      },
      "execution_count": null,
      "outputs": []
    },
    {
      "cell_type": "markdown",
      "source": [
        "### Initialising the GCN Model"
      ],
      "metadata": {
        "id": "nbULr3QD8n13"
      }
    },
    {
      "cell_type": "code",
      "source": [
        "from torch_geometric.utils import from_networkx\n",
        "from torch_geometric.data import Data\n",
        "from torch_geometric.nn import GCNConv\n",
        "import torch.nn.functional as F\n",
        "\n",
        "# Convert NetworkX graph to PyTorch Geometric data object\n",
        "data = from_networkx(G_ingredients)\n",
        "\n",
        "# Initialize node features randomly\n",
        "num_features = 64  # Adjust as needed\n",
        "data.x = torch.randn((data.num_nodes, num_features), dtype=torch.float)\n",
        "\n",
        "# Move data to GPU if available\n",
        "device = torch.device('cuda' if torch.cuda.is_available() else 'cpu')\n",
        "data = data.to(device)\n",
        "\n",
        "# Define the GCN model\n",
        "class GCN(torch.nn.Module):\n",
        "    def __init__(self, hidden_channels):\n",
        "        super(GCN, self).__init__()\n",
        "        torch.manual_seed(42)\n",
        "        self.conv1 = GCNConv(data.num_node_features, hidden_channels)\n",
        "        self.conv2 = GCNConv(hidden_channels, hidden_channels)\n",
        "\n",
        "    def forward(self, data):\n",
        "        x, edge_index = data.x, data.edge_index\n",
        "        x = self.conv1(x, edge_index)\n",
        "        x = F.relu(x)\n",
        "        x = self.conv2(x, edge_index)\n",
        "        return x\n",
        "\n",
        "model = GCN(hidden_channels=64)\n",
        "model = model.to(device)\n",
        "optimizer = torch.optim.Adam(model.parameters(), lr=0.01)\n",
        "criterion = torch.nn.MSELoss()\n",
        "\n",
        "# Train the GCN model\n",
        "def train():\n",
        "    model.train()\n",
        "    optimizer.zero_grad()\n",
        "    out = model(data)\n",
        "    loss = criterion(out, data.x)\n",
        "    loss.backward()\n",
        "    optimizer.step()\n",
        "    return loss\n",
        "\n",
        "for epoch in range(200):\n",
        "    loss = train()\n",
        "    if epoch % 20 == 0:\n",
        "        print(f'Epoch {epoch}, Loss: {loss.item()}')\n",
        "\n",
        "# Generate node embeddings using the trained GCN model\n",
        "model.eval()\n",
        "with torch.no_grad():\n",
        "    gcn_embeddings = model(data).cpu().numpy()\n",
        "\n",
        "# Create a mapping from node name to GCN embeddings\n",
        "node_to_embedding = {name: gcn_embeddings[i] for i, name in enumerate(G_ingredients.nodes())}\n"
      ],
      "metadata": {
        "id": "rvs3Fv9V5r2o"
      },
      "execution_count": null,
      "outputs": []
    },
    {
      "cell_type": "markdown",
      "source": [
        "### Generate combined embeddings"
      ],
      "metadata": {
        "id": "4OZrfZh98u3y"
      }
    },
    {
      "cell_type": "code",
      "source": [
        "import numpy as np\n",
        "\n",
        "# Combine text and graph embeddings for each ingredient\n",
        "combined_embeddings = {}\n",
        "for ingredient in node_to_embedding.keys():\n",
        "    # Get graph embedding\n",
        "    graph_embedding = node_to_embedding.get(ingredient, np.zeros(64))  # Assuming GCN embedding size is 64\n",
        "\n",
        "    # Get text embeddings of all recipes containing the ingredient\n",
        "    text_embedding_list = []\n",
        "    for index, row in recipe1m_df.iterrows():\n",
        "        if ingredient in row['processed_ingredients']:\n",
        "            text_embedding_list.append(ingredient_embeddings[row['id']])\n",
        "\n",
        "    # Average text embeddings\n",
        "    if text_embedding_list:\n",
        "        text_embedding_avg = np.mean(text_embedding_list, axis=0)\n",
        "    else:\n",
        "        text_embedding_avg = np.zeros(768)  # Assuming BERT embedding size is 768\n",
        "\n",
        "    # Combine graph and text embeddings\n",
        "    combined_embeddings[ingredient] = np.concatenate((graph_embedding, text_embedding_avg))"
      ],
      "metadata": {
        "id": "lFNyuFlb6DdX"
      },
      "execution_count": null,
      "outputs": []
    },
    {
      "cell_type": "markdown",
      "source": [
        "### Final Neural Network"
      ],
      "metadata": {
        "id": "cCIayuy_8xK0"
      }
    },
    {
      "cell_type": "code",
      "source": [
        "import torch\n",
        "import torch.nn as nn\n",
        "import torch.optim as optim\n",
        "\n",
        "class KeplerModel(nn.Module):\n",
        "    def __init__(self, input_dim, hidden_dim):\n",
        "        super(KeplerModel, self).__init__()\n",
        "        self.fc1 = nn.Linear(input_dim * 2, hidden_dim)  # input_dim * 2 because of concatenation\n",
        "        self.fc2 = nn.Linear(hidden_dim, hidden_dim)\n",
        "        self.fc3 = nn.Linear(hidden_dim, 1)\n",
        "\n",
        "    def forward(self, x1, x2):\n",
        "        x = torch.cat((x1, x2), dim=1)\n",
        "        x = torch.relu(self.fc1(x))\n",
        "        x = torch.relu(self.fc2(x))\n",
        "        x = torch.sigmoid(self.fc3(x))\n",
        "        return x\n",
        "\n",
        "input_dim = 832  # 768 (BERT) + 64 (GCN)\n",
        "hidden_dim = 128\n",
        "model = KeplerModel(input_dim, hidden_dim)\n",
        "model = model.to(device)\n",
        "\n",
        "# Load the substitution pairs\n",
        "substitution_pairs_df = pd.read_csv('/content/drive/My Drive/ERP/Recipe1MSubs_full.csv')\n",
        "\n",
        "# Prepare training data\n",
        "train_data = []\n",
        "for _, row in substitution_pairs_df.iterrows():\n",
        "    ingredient1 = row['ingredient1']\n",
        "    ingredient2 = row['ingredient2']\n",
        "    if ingredient1 in combined_embeddings and ingredient2 in combined_embeddings:\n",
        "        embedding1 = combined_embeddings[ingredient1]\n",
        "        embedding2 = combined_embeddings[ingredient2]\n",
        "        train_data.append((embedding1, embedding2, 1))\n",
        "\n",
        "# Add negative samples\n",
        "import random\n",
        "all_ingredients = list(combined_embeddings.keys())\n",
        "for ingredient1 in combined_embeddings.keys():\n",
        "    for _ in range(5):  # Generate 5 negative samples for each positive sample\n",
        "        ingredient2 = random.choice(all_ingredients)\n",
        "        if ingredient1 != ingredient2:\n",
        "            embedding1 = combined_embeddings[ingredient1]\n",
        "            embedding2 = combined_embeddings[ingredient2]\n",
        "            train_data.append((embedding1, embedding2, 0))\n",
        "\n",
        "# Convert to tensors\n",
        "X1 = torch.tensor(np.array([t[0] for t in train_data]), dtype=torch.float).to(device)\n",
        "X2 = torch.tensor(np.array([t[1] for t in train_data]), dtype=torch.float).to(device)\n",
        "y = torch.tensor([t[2] for t in train_data], dtype=torch.float).to(device).unsqueeze(1)\n",
        "\n",
        "# Train the model\n",
        "optimizer = optim.Adam(model.parameters(), lr=0.001)\n",
        "criterion = nn.BCELoss()\n",
        "\n",
        "def train_kepler():\n",
        "    model.train()\n",
        "    optimizer.zero_grad()\n",
        "    outputs = model(X1, X2)\n",
        "    loss = criterion(outputs, y)\n",
        "    loss.backward()\n",
        "    optimizer.step()\n",
        "    return loss.item()\n",
        "\n",
        "# Training loop\n",
        "for epoch in range(100):\n",
        "    loss = train_kepler()\n",
        "    if epoch % 10 == 0:\n",
        "        print(f'Epoch {epoch}, Loss: {loss:.4f}')"
      ],
      "metadata": {
        "id": "e-VpXL2r6m43"
      },
      "execution_count": null,
      "outputs": []
    },
    {
      "cell_type": "markdown",
      "source": [
        "### Evaluation"
      ],
      "metadata": {
        "id": "r6MX49ub81tX"
      }
    },
    {
      "cell_type": "code",
      "source": [
        "from sklearn.metrics.pairwise import cosine_similarity\n",
        "\n",
        "# Function to generate predictions\n",
        "def generate_kepler_predictions(validation_pairs, model, embeddings):\n",
        "    model.eval()\n",
        "    predictions = []\n",
        "    with torch.no_grad():\n",
        "        for _, row in validation_pairs.iterrows():\n",
        "            ingredient1 = row['ingredient1']\n",
        "            if ingredient1 in embeddings:\n",
        "                candidates = sorted(\n",
        "                    embeddings.keys(),\n",
        "                    key=lambda ing: model(\n",
        "                        torch.tensor(embeddings[ingredient1], dtype=torch.float).unsqueeze(0).to(device),\n",
        "                        torch.tensor(embeddings[ing], dtype=torch.float).unsqueeze(0).to(device)\n",
        "                    ).item(),\n",
        "                    reverse=True\n",
        "                )[:10]\n",
        "                predictions.append(candidates)\n",
        "            else:\n",
        "                predictions.append([])\n",
        "    return predictions\n",
        "\n",
        "val_predictions = generate_kepler_predictions(substitution_pairs_df, model, combined_embeddings)\n",
        "\n",
        "# Function to calculate MRR, Hit@1, Hit@3, Hit@10\n",
        "def calculate_metrics(predictions, ground_truths):\n",
        "    mrr = 0.0\n",
        "    hit_1 = 0.0\n",
        "    hit_3 = 0.0\n",
        "    hit_10 = 0.0\n",
        "    for pred, gt in zip(predictions, ground_truths):\n",
        "        for i, candidate in enumerate(pred):\n",
        "            if gt == candidate:\n",
        "                rank = i + 1\n",
        "                mrr += 1.0 / rank\n",
        "                if rank == 1:\n",
        "                    hit_1 += 1.0\n",
        "                if rank <= 3:\n",
        "                    hit_3 += 1.0\n",
        "                if rank <= 10:\n",
        "                    hit_10 += 1.0\n",
        "                break\n",
        "    mrr /= len(ground_truths)\n",
        "    hit_1 /= len(ground_truths)\n",
        "    hit_3 /= len(ground_truths)\n",
        "    hit_10 /= len(ground_truths)\n",
        "    return mrr, hit_1, hit_3, hit_10\n",
        "\n",
        "# Extract ground truths from the validation set\n",
        "val_ground_truths = substitution_pairs_df['ingredient2'].tolist()\n",
        "\n",
        "# Calculate metrics for the Kepler model\n",
        "mrr, hit_1, hit_3, hit_10 = calculate_metrics(val_predictions, val_ground_truths)\n",
        "\n",
        "print(f\"Kepler Model: MRR: {mrr:.4f}, Hit@1: {hit_1:.4f}, Hit@3: {hit_3:.4f}, Hit@10: {hit_10:.4f}\")\n"
      ],
      "metadata": {
        "id": "TnfZ-iIn7WVf"
      },
      "execution_count": null,
      "outputs": []
    },
    {
      "cell_type": "code",
      "source": [
        "from jellyfish import jaro_winkler_similarity\n",
        "\n",
        "# Function to calculate MRR, Hit@1, Hit@3, and Hit@10 with Jaro-Winkler similarity threshold\n",
        "def calculate_metrics(predictions, ground_truths, embeddings, threshold=0.8):\n",
        "    mrr = 0.0\n",
        "    hit_1 = 0.0\n",
        "    hit_3 = 0.0\n",
        "    hit_10 = 0.0\n",
        "\n",
        "    for pred, gt in zip(predictions, ground_truths):\n",
        "        for i, candidate in enumerate(pred):\n",
        "            if gt in embeddings and candidate in embeddings:\n",
        "                sim = jaro_winkler_similarity(gt, candidate)\n",
        "                if sim >= threshold:\n",
        "                    rank = i + 1\n",
        "                    mrr += 1.0 / rank\n",
        "                    if rank == 1:\n",
        "                        hit_1 += 1.0\n",
        "                    if rank <= 3:\n",
        "                        hit_3 += 1.0\n",
        "                    if rank <= 10:\n",
        "                        hit_10 += 1.0\n",
        "                    break\n",
        "\n",
        "    mrr /= len(ground_truths)\n",
        "    hit_1 /= len(ground_truths)\n",
        "    hit_3 /= len(ground_truths)\n",
        "    hit_10 /= len(ground_truths)\n",
        "    return mrr, hit_1, hit_3, hit_10\n",
        "\n",
        "# Extract ground truths from the validation set\n",
        "val_ground_truths = substitution_pairs_df['ingredient2'].tolist()\n",
        "\n",
        "# Calculate metrics for the Kepler model with Jaro-Winkler similarity threshold\n",
        "mrr, hit_1, hit_3, hit_10 = calculate_metrics(val_predictions, val_ground_truths, combined_embeddings)\n",
        "\n",
        "print(f\"Kepler Model: MRR: {mrr:.4f}, Hit@1: {hit_1:.4f}, Hit@3: {hit_3:.4f}, Hit@10: {hit_10:.4f}\")"
      ],
      "metadata": {
        "id": "EQl9aCcAr8v6"
      },
      "execution_count": null,
      "outputs": []
    }
  ]
}